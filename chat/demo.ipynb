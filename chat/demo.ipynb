{
 "cells": [
  {
   "cell_type": "markdown",
   "metadata": {},
   "source": [
    "### 简要的用法介绍"
   ]
  },
  {
   "cell_type": "markdown",
   "metadata": {},
   "source": [
    "#### 指定ado命令文件路径"
   ]
  },
  {
   "cell_type": "code",
   "execution_count": 2,
   "metadata": {},
   "outputs": [
    {
     "name": "stdout",
     "output_type": "stream",
     "text": [
      "  [1]  (BASE)      \"/Applications/Stata/ado/base/\"\n",
      "  [2]  (SITE)      \"/Applications/Stata/ado/site/\"\n",
      "  [3]              \".\"\n",
      "  [4]  (PERSONAL)  \"/Users/cyberbacchus/Documents/Stata/ado/personal/\"\n",
      "  [5]  (PLUS)      \"/Users/cyberbacchus/Library/Application Support/Stata/ado/p\n",
      "> lus/\"\n",
      "  [6]  (OLDPLACE)  \"~/ado/\"\n",
      "  [7]              \"../code\"\n"
     ]
    }
   ],
   "source": [
    "adopath + \"../code\""
   ]
  },
  {
   "cell_type": "markdown",
   "metadata": {},
   "source": [
    "#### 导入API KEY"
   ]
  },
  {
   "cell_type": "code",
   "execution_count": 1,
   "metadata": {},
   "outputs": [
    {
     "data": {
      "text/html": [
       "<style>div.jp-Notebook .datagrid-container {min-height: 448px; }</style>"
      ],
      "text/plain": [
       "<IPython.core.display.HTML object>"
      ]
     },
     "metadata": {},
     "output_type": "display_data"
    }
   ],
   "source": [
    "global OPENAI_API_KEY=fileread(\"/Users/cyberbacchus/Keys/DeepSeekAPI.txt\")"
   ]
  },
  {
   "cell_type": "markdown",
   "metadata": {},
   "source": [
    "#### 用法测试（来自demo/main.do)"
   ]
  },
  {
   "cell_type": "code",
   "execution_count": 5,
   "metadata": {},
   "outputs": [
    {
     "name": "stdout",
     "output_type": "stream",
     "text": [
      "(prefix now \"https://stata-chatgpt.oss-cn-beijing.aliyuncs.com/chatgpt\")\n"
     ]
    }
   ],
   "source": [
    "local base \"https://stata-chatgpt.oss-cn-beijing.aliyuncs.com/chatgpt\"\n",
    "webuse set \"`base'\"\n",
    "forvalue i = 1/5{\n",
    "\tcopy \"`base'/prompt`i'.txt\" \"prompt`i'.txt\",replace\n",
    "}\n",
    "\n",
    "forvalue i = 1/4{\n",
    "\tcopy \"`base'/content`i'.txt\" \"content`i'.txt\",replace\n",
    "}"
   ]
  },
  {
   "cell_type": "code",
   "execution_count": 9,
   "metadata": {},
   "outputs": [
    {
     "name": "stdout",
     "output_type": "stream",
     "text": [
      "(1978 automobile data)\n",
      "\n",
      "\n",
      "\n"
     ]
    },
    {
     "name": "stderr",
     "output_type": "stream",
     "text": [
      "  % Total    % Received % Xferd  Average Speed   Time    Time     Time  Current\n",
      "                                 Dload  Upload   Total   Spent    Left  Speed\n",
      "100   498    0     0  100   498      0    231  0:00:02  0:00:02 --:--:--   231"
     ]
    },
    {
     "name": "stdout",
     "output_type": "stream",
     "text": [
      "\n",
      "\n",
      " tata\n",
      " summarize mpg, detail\n",
      " \n",
      " 这将显示包括20%分位数在内的mpg变量的详细统计信息。\n"
     ]
    },
    {
     "name": "stderr",
     "output_type": "stream",
     "text": [
      "100   938  100   440  100   498    173    195  0:00:02  0:00:02 --:--:--   369\n"
     ]
    }
   ],
   "source": [
    "*****附录B：chatgpt命令辅助泛技术类工作专门示例*****\n",
    "\n",
    "//case B.1 命令查询\n",
    "//案例主旨：在只知道功能的情况下，查询相应的Stata命令\n",
    "clear all\n",
    "sysuse auto,clear\n",
    "deepseek talk, openai_api_key($OPENAI_API_KEY) command(\"如何查询变量mpg的20%分位数\") stata "
   ]
  },
  {
   "cell_type": "code",
   "execution_count": 10,
   "metadata": {},
   "outputs": [
    {
     "name": "stdout",
     "output_type": "stream",
     "text": [
      "\n",
      "\n",
      "     +-------------------------------+\n",
      "     |  stkcd   year   value   delta |\n",
      "     |-------------------------------|\n",
      "  1. | 600191   2011       0       . |\n",
      "  2. | 600191   2012       5       5 |\n",
      "  3. | 600191   2013       3      -2 |\n",
      "  4. | 600191   2014       7       4 |\n",
      "  5. | 600191   2015       2      -5 |\n",
      "     |-------------------------------|\n",
      "  6. | 600192   2016       9       . |\n",
      "  7. | 600192   2017       4      -5 |\n",
      "  8. | 600192   2018       2      -2 |\n",
      "  9. | 600192   2019       1      -1 |\n",
      " 10. | 600192   2020       0      -1 |\n",
      "     +-------------------------------+\n",
      "\n",
      "\n",
      "\n"
     ]
    },
    {
     "name": "stderr",
     "output_type": "stream",
     "text": [
      "  % Total    % Received % Xferd  Average Speed   Time    Time     Time  Current\n",
      "                                 Dload  Upload   Total   Spent    Left  Speed\n",
      "100  1248    0     0  100  1248      0    201  0:00:06  0:00:06 --:--:--     0"
     ]
    },
    {
     "name": "stdout",
     "output_type": "stream",
     "text": [
      "\n",
      "\n",
      " 在Stata中，如果`delta`是通过`value`的差分计算得到的，即`delta`是当前年份的`val\n",
      "> ue`减去前一年份的`value`，可以使用以下命令生成`delta`：\n",
      " \n",
      " tata\n",
      " bysort stkcd (year): gen delta = value - value[_n-1] if year != 2011\n",
      " \n",
      " 这个命令首先按`stkcd`和`year`排序，然后计算每个股票代码内每年的`value`与前一年\n",
      "> 的`value`的差值，但排除了第一年的情况（因为无法计算前一年的值）。\n"
     ]
    },
    {
     "name": "stderr",
     "output_type": "stream",
     "text": [
      "100  2046  100   798  100  1248    112    175  0:00:07  0:00:07 --:--:--   201\n"
     ]
    }
   ],
   "source": [
    "//case B.2 代码生成\n",
    "//案例主旨：在只知道效果的情况下，查询相应的Stata命令\n",
    "clear all\n",
    "webuse data1,clear\n",
    "deepseek read data,openai_api_key($OPENAI_API_KEY) stata ///\n",
    "\tcommand(\"观察数据详情，请指出如何通过stkcd和year生成delta\") ///\n",
    "\tdo(\"list\")"
   ]
  },
  {
   "cell_type": "code",
   "execution_count": 8,
   "metadata": {},
   "outputs": [
    {
     "name": "stdout",
     "output_type": "stream",
     "text": [
      "checking cntraveltime consistency and verifying not already installed...\n",
      "installing into /Users/cyberbacchus/Library/Application Support/Stata/ado/plus/\n",
      "> ...\n",
      "installation complete.\n",
      "\n",
      "\n",
      "\n",
      "\n"
     ]
    },
    {
     "name": "stderr",
     "output_type": "stream",
     "text": [
      "  % Total    % Received % Xferd  Average Speed   Time    Time     Time  Current\n",
      "                                 Dload  Upload   Total   Spent    Left  Speed\n",
      "100  7036    0     0  100  7036      0   2218  0:00:03  0:00:03 --:--:--  2219"
     ]
    },
    {
     "name": "stdout",
     "output_type": "stream",
     "text": [
      "\n",
      "\n",
      " 根据提供的帮助文件内容，`cntraveltime` 命令支持的交通模式包括汽车、公共交通和\n",
      "> 自行车。没有提到远洋轮船作为交通模式。因此，该命令不能计算远洋轮船的行程距离\n",
      "> 。\n"
     ]
    },
    {
     "name": "stderr",
     "output_type": "stream",
     "text": [
      "100  7592  100   556  100  7036    152   1933  0:00:03  0:00:03 --:--:--  2085\n"
     ]
    }
   ],
   "source": [
    "//case B.3 命令速览\n",
    "//案例主旨：在对新命令一无所知的情况下，查询使用方法\n",
    "clear all\n",
    "ssc install cntraveltime,replace //该命令为外部命令，需要通过SSC下载安装\n",
    "chatgpt read cntraveltime.sthlp , openai_api_key($OPENAI_API_KEY) stata ///\n",
    "\tcommand(\"该命令能否计算远洋轮船的行程距离？\")"
   ]
  },
  {
   "cell_type": "markdown",
   "metadata": {},
   "source": [
    "#### 后略"
   ]
  }
 ],
 "metadata": {
  "kernelspec": {
   "display_name": "Stata (nbstata)",
   "language": "stata",
   "name": "nbstata"
  },
  "language_info": {
   "file_extension": ".do",
   "mimetype": "text/x-stata",
   "name": "stata",
   "version": "17"
  }
 },
 "nbformat": 4,
 "nbformat_minor": 2
}
